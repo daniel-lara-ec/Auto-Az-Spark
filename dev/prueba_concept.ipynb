{
 "cells": [
  {
   "cell_type": "code",
   "execution_count": null,
   "id": "635c1ddd",
   "metadata": {},
   "outputs": [],
   "source": [
    "from azure.identity import DefaultAzureCredential\n",
    "from azure.mgmt.compute import ComputeManagementClient"
   ]
  },
  {
   "cell_type": "code",
   "execution_count": null,
   "id": "46c529e1",
   "metadata": {},
   "outputs": [],
   "source": [
    "# ID de tu suscripción\n",
    "subscription_id = \"\"\n",
    "\n",
    "# Autenticación\n",
    "credential = DefaultAzureCredential()"
   ]
  },
  {
   "cell_type": "code",
   "execution_count": null,
   "id": "f293d7ee",
   "metadata": {},
   "outputs": [],
   "source": [
    "# Cliente de Compute\n",
    "compute_client = ComputeManagementClient(credential, subscription_id)\n",
    "\n",
    "# Listar todas las VMs de la suscripción\n",
    "print(\"=== Máquinas virtuales en la suscripción ===\")\n",
    "for vm in compute_client.virtual_machines.list_all():\n",
    "    print(f\"VM: {vm.name} | Location: {vm.location} | RG: {vm.id.split('/')[4]}\")\n"
   ]
  },
  {
   "cell_type": "code",
   "execution_count": null,
   "id": "aa512a35",
   "metadata": {},
   "outputs": [],
   "source": [
    "resource_group = \"Dev-Datos\"\n",
    "\n",
    "for vm in compute_client.virtual_machines.list(resource_group):\n",
    "    print(f\"VM: {vm.name} | Location: {vm.location}\")\n"
   ]
  }
 ],
 "metadata": {
  "kernelspec": {
   "display_name": ".venv",
   "language": "python",
   "name": "python3"
  },
  "language_info": {
   "codemirror_mode": {
    "name": "ipython",
    "version": 3
   },
   "file_extension": ".py",
   "mimetype": "text/x-python",
   "name": "python",
   "nbconvert_exporter": "python",
   "pygments_lexer": "ipython3",
   "version": "3.12.9"
  }
 },
 "nbformat": 4,
 "nbformat_minor": 5
}
