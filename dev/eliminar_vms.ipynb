{
 "cells": [
  {
   "cell_type": "code",
   "execution_count": null,
   "id": "667dcfe1",
   "metadata": {},
   "outputs": [],
   "source": [
    "from azure.mgmt.compute import ComputeManagementClient\n",
    "from azure.mgmt.network import NetworkManagementClient\n",
    "from azure.identity import DefaultAzureCredential"
   ]
  },
  {
   "cell_type": "code",
   "execution_count": null,
   "id": "46c99e51",
   "metadata": {},
   "outputs": [],
   "source": [
    "# ID de tu suscripción\n",
    "subscription_id = \"\"\n",
    "resource_group = \"\"\n",
    "vm_name = \"\"\n",
    "\n",
    "\n",
    "# Autenticación\n",
    "credential = DefaultAzureCredential()"
   ]
  },
  {
   "cell_type": "code",
   "execution_count": null,
   "id": "eafb7ce2",
   "metadata": {},
   "outputs": [],
   "source": [
    "from func.funciones_vm import eliminar_vm\n",
    "from auth.autenticacion import ClienteAzure\n",
    "from azure.identity import DefaultAzureCredential\n",
    "\n",
    "credential = DefaultAzureCredential()\n",
    "subscription_id = \"\"\n",
    "\n",
    "cliente_azure = ClienteAzure(credential,subscription_id)\n",
    "resource_group = \"\"\n",
    "\n",
    "eliminar_vm(\n",
    "    cliente_azure,\n",
    "    resource_group,\n",
    "    'test-cluster-worker-2'\n",
    ")"
   ]
  },
  {
   "cell_type": "code",
   "execution_count": null,
   "id": "e412285a",
   "metadata": {},
   "outputs": [],
   "source": [
    "# Cliente de Compute\n",
    "compute_client = ComputeManagementClient(credential, subscription_id)\n",
    "\n",
    "# Cliente de Red\n",
    "network_client = NetworkManagementClient(credential, subscription_id)"
   ]
  },
  {
   "cell_type": "code",
   "execution_count": null,
   "id": "78f084ce",
   "metadata": {},
   "outputs": [],
   "source": [
    "# Obtener la VM (antes de borrarla)\n",
    "vm = compute_client.virtual_machines.get(resource_group, vm_name)"
   ]
  },
  {
   "cell_type": "code",
   "execution_count": null,
   "id": "a0a8e3be",
   "metadata": {},
   "outputs": [],
   "source": [
    "# Nombre del disco del sistema operativo\n",
    "os_disk_name = vm.storage_profile.os_disk.name"
   ]
  },
  {
   "cell_type": "code",
   "execution_count": null,
   "id": "c159cdde",
   "metadata": {},
   "outputs": [],
   "source": [
    "vm.storage_profile.os_disk.id"
   ]
  },
  {
   "cell_type": "code",
   "execution_count": null,
   "id": "9909a2bd",
   "metadata": {},
   "outputs": [],
   "source": [
    "nic_id = vm.network_profile.network_interfaces[0].id\n",
    "nic_name = nic_id.split(\"/\")[-1]"
   ]
  },
  {
   "cell_type": "code",
   "execution_count": null,
   "id": "026a36f9",
   "metadata": {},
   "outputs": [],
   "source": [
    "# NIC asociada\n",
    "nic = network_client.network_interfaces.get(resource_group, nic_name)\n",
    "ip_config = nic.ip_configurations[0]\n",
    "public_ip_id = ip_config.public_ip_address.id if ip_config.public_ip_address else None\n",
    "public_ip_name = public_ip_id.split(\"/\")[-1] if public_ip_id else None"
   ]
  },
  {
   "cell_type": "code",
   "execution_count": null,
   "id": "5d93b07b",
   "metadata": {},
   "outputs": [],
   "source": [
    "# Eliminar la VM\n",
    "compute_client.virtual_machines.begin_delete(resource_group, vm_name).result()\n",
    "print(f\"VM {vm_name} eliminada.\")"
   ]
  },
  {
   "cell_type": "code",
   "execution_count": null,
   "id": "42b455c8",
   "metadata": {},
   "outputs": [],
   "source": [
    "# Eliminar NIC\n",
    "network_client.network_interfaces.begin_delete(resource_group, nic_name).result()\n",
    "print(f\"NIC {nic_name} eliminada.\")"
   ]
  },
  {
   "cell_type": "code",
   "execution_count": null,
   "id": "6444ed55",
   "metadata": {},
   "outputs": [],
   "source": [
    "# Eliminar disco\n",
    "compute_client.disks.begin_delete(resource_group, os_disk_name).result()\n",
    "print(f\"Disco {os_disk_name} eliminado.\")\n"
   ]
  },
  {
   "cell_type": "code",
   "execution_count": null,
   "id": "50e88d9b",
   "metadata": {},
   "outputs": [],
   "source": [
    "# 6. Eliminar la IP pública (si tenía)\n",
    "if public_ip_name:\n",
    "    network_client.public_ip_addresses.begin_delete(resource_group, public_ip_name).result()\n",
    "    print(f\"✅ IP pública {public_ip_name} eliminada.\")"
   ]
  },
  {
   "cell_type": "code",
   "execution_count": null,
   "id": "bbed2e84",
   "metadata": {},
   "outputs": [],
   "source": [
    "if nic.network_security_group:\n",
    "    nsg_id = nic.network_security_group.id\n",
    "    nsg_name = nsg_id.split('/')[-1]\n",
    "    print(f\"La VM '{vm_name}' tiene asignado el NSG: {nsg_name}\")\n",
    "\n",
    "    network_client.network_security_groups.begin_delete(resource_group, nsg_name).result()\n",
    "    print(f\"NSG '{nsg_name}' eliminado.\")\n",
    "else:\n",
    "    print(f\"La VM '{vm_name}' no tiene NSG asignado\")\n"
   ]
  }
 ],
 "metadata": {
  "kernelspec": {
   "display_name": ".venv",
   "language": "python",
   "name": "python3"
  },
  "language_info": {
   "codemirror_mode": {
    "name": "ipython",
    "version": 3
   },
   "file_extension": ".py",
   "mimetype": "text/x-python",
   "name": "python",
   "nbconvert_exporter": "python",
   "pygments_lexer": "ipython3",
   "version": "3.12.9"
  }
 },
 "nbformat": 4,
 "nbformat_minor": 5
}
