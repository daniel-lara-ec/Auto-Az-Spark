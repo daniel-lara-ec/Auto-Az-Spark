{
 "cells": [
  {
   "cell_type": "code",
   "execution_count": null,
   "id": "3ac7b02b",
   "metadata": {},
   "outputs": [],
   "source": [
    "from azure.identity import DefaultAzureCredential\n",
    "from azure.mgmt.compute import ComputeManagementClient\n",
    "from azure.mgmt.network import NetworkManagementClient\n",
    "from azure.mgmt.network.models import (\n",
    "    NetworkSecurityGroup,\n",
    "    SecurityRule,\n",
    "    NetworkInterface,\n",
    "    NetworkInterfaceIPConfiguration,\n",
    "    Subnet,\n",
    "    PublicIPAddress,\n",
    ")\n",
    "from azure.mgmt.resource import ResourceManagementClient"
   ]
  },
  {
   "cell_type": "code",
   "execution_count": null,
   "id": "51e655e2",
   "metadata": {},
   "outputs": [],
   "source": [
    "subscription_id = \"\"\n",
    "resource_group = \"\"\n",
    "resource_group_vnet = ''\n",
    "location = \"\"\n",
    "\n",
    "\n",
    "tamanio_instancia = \"\"\n",
    "ssh_key = \"\"\n",
    "nombre_base = ''\n",
    "\n",
    "nsg_name = 'nsg-driver'\n",
    "\n",
    "sistema_operativo = {\n",
    "            \"publisher\": \"\",\n",
    "            \"offer\": \"\",\n",
    "            \"sku\": \"\",\n",
    "            \"version\": \"\"\n",
    "        }\n",
    "\n",
    "\n",
    "\n",
    "# Parámetros que vendrían como argumento\n",
    "vnet_name = \"\"\n",
    "subnet_name = \"\"\n",
    "public_ip_name = nombre_base + \"-ip\"\n",
    "nic_name = nombre_base + \"-nic\"\n",
    "vm_name = nombre_base \n",
    "username = \"azureuser\"\n"
   ]
  },
  {
   "cell_type": "code",
   "execution_count": null,
   "id": "e6a596c0",
   "metadata": {},
   "outputs": [],
   "source": [
    "cred = DefaultAzureCredential()\n",
    "\n",
    "# Clientes\n",
    "resource_client = ResourceManagementClient(cred, subscription_id)\n",
    "network_client = NetworkManagementClient(cred, subscription_id)\n",
    "compute_client = ComputeManagementClient(cred, subscription_id)"
   ]
  },
  {
   "cell_type": "code",
   "execution_count": null,
   "id": "83989e47",
   "metadata": {},
   "outputs": [],
   "source": [
    "# Crear NSG\n",
    "nsg_params = NetworkSecurityGroup(location=location)\n",
    "nsg = network_client.network_security_groups.begin_create_or_update(\n",
    "    resource_group,\n",
    "    nsg_name,\n",
    "    nsg_params\n",
    ").result()\n",
    "\n",
    "print(f\"NSG creado: {nsg.id}\")"
   ]
  },
  {
   "cell_type": "code",
   "execution_count": null,
   "id": "a764689b",
   "metadata": {},
   "outputs": [],
   "source": [
    "# Regla SSH\n",
    "# ssh_rule = SecurityRule(\n",
    "#     protocol=\"Tcp\",\n",
    "#     source_port_range=\"*\",\n",
    "#     destination_port_range=\"22\",\n",
    "#     source_address_prefix=\"*\",\n",
    "#     destination_address_prefix=\"*\",\n",
    "#     access=\"Allow\",\n",
    "#     direction=\"Inbound\",\n",
    "#     priority=100,\n",
    "#     name=\"AllowSSH\"\n",
    "# )\n",
    "\n",
    "# network_client.security_rules.begin_create_or_update(\n",
    "#     resource_group,\n",
    "#     nsg_name,\n",
    "#     \"AllowSSH\",\n",
    "#     ssh_rule\n",
    "# ).result()\n",
    "\n",
    "# Regla HTTP\n",
    "http_rule = SecurityRule(\n",
    "    protocol=\"Tcp\",\n",
    "    source_port_range=\"*\",\n",
    "    destination_port_range=\"80\",\n",
    "    source_address_prefix=\"*\",\n",
    "    destination_address_prefix=\"*\",\n",
    "    access=\"Allow\",\n",
    "    direction=\"Inbound\",\n",
    "    priority=200,\n",
    "    name=\"AllowHTTP\"\n",
    ")\n",
    "\n",
    "network_client.security_rules.begin_create_or_update(\n",
    "    resource_group,\n",
    "    nsg_name,\n",
    "    \"AllowHTTP\",\n",
    "    http_rule\n",
    ").result()\n",
    "\n",
    "print(\"Reglas agregadas al NSG\")"
   ]
  },
  {
   "cell_type": "code",
   "execution_count": null,
   "id": "1887ce76",
   "metadata": {},
   "outputs": [],
   "source": [
    "subnet = network_client.subnets.get(resource_group_vnet, vnet_name, subnet_name)"
   ]
  },
  {
   "cell_type": "code",
   "execution_count": null,
   "id": "395e5d9a",
   "metadata": {},
   "outputs": [],
   "source": [
    "public_ip = network_client.public_ip_addresses.begin_create_or_update(\n",
    "    resource_group,\n",
    "    public_ip_name,\n",
    "    {\n",
    "        \"location\": location,\n",
    "        \"sku\": {\"name\": \"Standard\"},\n",
    "        \"public_ip_allocation_method\": \"Static\"\n",
    "    }\n",
    ").result()"
   ]
  },
  {
   "cell_type": "code",
   "execution_count": null,
   "id": "1d34ec16",
   "metadata": {},
   "outputs": [],
   "source": [
    "nic_params = NetworkInterface(\n",
    "    location=location,\n",
    "    ip_configurations=[NetworkInterfaceIPConfiguration(\n",
    "        name=\"default\",\n",
    "        subnet=Subnet(id=subnet.id),\n",
    "        public_ip_address=PublicIPAddress(id=public_ip.id),\n",
    "    )],\n",
    "    network_security_group=nsg \n",
    ")\n",
    "\n",
    "nic = network_client.network_interfaces.begin_create_or_update(\n",
    "    resource_group,\n",
    "    nic_name,\n",
    "    nic_params\n",
    ").result()"
   ]
  },
  {
   "cell_type": "code",
   "execution_count": null,
   "id": "92eb3033",
   "metadata": {},
   "outputs": [],
   "source": [
    "ssh_key = compute_client.ssh_public_keys.get(\n",
    "    resource_group_name=resource_group,\n",
    "    ssh_public_key_name=ssh_key\n",
    ")\n",
    "\n",
    "ssh_key_data = ssh_key.public_key"
   ]
  },
  {
   "cell_type": "code",
   "execution_count": null,
   "id": "76fcccc7",
   "metadata": {},
   "outputs": [],
   "source": [
    "# ⚡ 4. Crear la VM\n",
    "vm_parameters = {\n",
    "    \"location\": location,\n",
    "    \"hardware_profile\": {\"vm_size\": tamanio_instancia},\n",
    "    \"storage_profile\": {\"image_reference\": sistema_operativo},\n",
    "    \"os_profile\": {\n",
    "        \"computer_name\": vm_name,\n",
    "        \"admin_username\": username,\n",
    "        \"linux_configuration\": {\n",
    "            \"disable_password_authentication\": True,\n",
    "            \"ssh\": {\n",
    "                \"public_keys\": [\n",
    "                    {\n",
    "                        \"path\": f\"/home/{username}/.ssh/authorized_keys\",\n",
    "                        \"key_data\": ssh_key_data,\n",
    "                    }\n",
    "                ]\n",
    "            },\n",
    "        },\n",
    "    },\n",
    "    \"network_profile\": {\"network_interfaces\": [{\"id\": nic.id, \"primary\": True}]},\n",
    "    \"os_disk\": {\n",
    "        \"name\": nombre_base + \"disk\",\n",
    "        \"create_option\": \"FromImage\",\n",
    "        \"disk_size_gb\": 32,  # 🔹 Aquí defines el tamaño del OS Disk en GB\n",
    "        \"managed_disk\": {\"storage_account_type\": \"StandardSSD_LRS\"},\n",
    "    },\n",
    "}"
   ]
  },
  {
   "cell_type": "code",
   "execution_count": null,
   "id": "88498f90",
   "metadata": {},
   "outputs": [],
   "source": [
    "compute_client.virtual_machines.begin_create_or_update(\n",
    "    resource_group,\n",
    "    vm_name,\n",
    "    vm_parameters\n",
    ").result()\n",
    "\n",
    "print(f\"✅ VM '{vm_name}' creada con IP estática {public_ip.ip_address}\")"
   ]
  }
 ],
 "metadata": {
  "kernelspec": {
   "display_name": ".venv",
   "language": "python",
   "name": "python3"
  },
  "language_info": {
   "codemirror_mode": {
    "name": "ipython",
    "version": 3
   },
   "file_extension": ".py",
   "mimetype": "text/x-python",
   "name": "python",
   "nbconvert_exporter": "python",
   "pygments_lexer": "ipython3",
   "version": "3.12.9"
  }
 },
 "nbformat": 4,
 "nbformat_minor": 5
}
