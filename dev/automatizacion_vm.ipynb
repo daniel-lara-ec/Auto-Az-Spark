{
 "cells": [
  {
   "cell_type": "code",
   "execution_count": null,
   "id": "c93cea38",
   "metadata": {},
   "outputs": [],
   "source": [
    "from funciones_vm import ClienteAzure,crear_vm,eliminar_vm\n",
    "from azure.identity import DefaultAzureCredential"
   ]
  },
  {
   "cell_type": "code",
   "execution_count": null,
   "id": "22ec16b5",
   "metadata": {},
   "outputs": [],
   "source": [
    "cred = DefaultAzureCredential()\n",
    "id_suscripcion = ''\n",
    "\n",
    "ClientePersonal = ClienteAzure(cred, id_suscripcion)"
   ]
  },
  {
   "cell_type": "code",
   "execution_count": null,
   "id": "82a48c5c",
   "metadata": {},
   "outputs": [],
   "source": [
    "reglas = [\n",
    "    {\n",
    "        \"protocolo\": \"Tcp\",\n",
    "        \"puerto_origen\": \"*\",\n",
    "        \"puerto_destino\": \"80\",\n",
    "        \"direccion_origen\": \"*\",\n",
    "        \"direccion_destino\": \"*\",\n",
    "        \"acceso\": \"Allow\",\n",
    "        \"direccion\": \"Inbound\",\n",
    "        \"prioridad\": 200,\n",
    "        \"nombre\": \"AllowHTTP\",\n",
    "    },\n",
    "    # {\n",
    "    #     \"protocolo\": \"Tcp\",\n",
    "    #     \"puerto_origen\": \"*\",\n",
    "    #     \"puerto_destino\": \"80\",\n",
    "    #     \"direccion_origen\": \"*\",\n",
    "    #     \"direccion_destino\": \"*\",\n",
    "    #     \"acceso\": \"Allow\",\n",
    "    #     \"direccion\": \"Inbound\",\n",
    "    #     \"prioridad\": 200,\n",
    "    #     \"nombre\": \"AllowHTTP\",\n",
    "    # },\n",
    "]"
   ]
  },
  {
   "cell_type": "code",
   "execution_count": null,
   "id": "04aa4472",
   "metadata": {},
   "outputs": [],
   "source": [
    "crear_vm(\n",
    "    ClientePersonal,\n",
    "    tamanio_instancia=\"\",\n",
    "    nombre_base=\"test-srv-10\",\n",
    "    grupo_recursos=\"\",\n",
    "    nombre_red_virtual=\"\",\n",
    "    nombre_subred=\"\",\n",
    "    nombre_clave_ssh=\"\",\n",
    "    sistema_operativo = {\n",
    "            \"publisher\": \"\",\n",
    "            \"offer\": \"\",\n",
    "            \"sku\": \"\",\n",
    "            \"version\": \"\"\n",
    "        },\n",
    "    region=\"\",\n",
    "    username=\"\",\n",
    "    reglas_cortafuegos = reglas,\n",
    "    grupo_recursos_vnet=''\n",
    ")\n"
   ]
  },
  {
   "cell_type": "code",
   "execution_count": null,
   "id": "919f045e",
   "metadata": {},
   "outputs": [],
   "source": [
    "eliminar_vm(\n",
    "    ClientePersonal,\n",
    "    nombre_vm=\"\",\n",
    "    grupo_recursos=\"\",\n",
    ")"
   ]
  }
 ],
 "metadata": {
  "kernelspec": {
   "display_name": ".venv",
   "language": "python",
   "name": "python3"
  },
  "language_info": {
   "codemirror_mode": {
    "name": "ipython",
    "version": 3
   },
   "file_extension": ".py",
   "mimetype": "text/x-python",
   "name": "python",
   "nbconvert_exporter": "python",
   "pygments_lexer": "ipython3",
   "version": "3.12.9"
  }
 },
 "nbformat": 4,
 "nbformat_minor": 5
}
